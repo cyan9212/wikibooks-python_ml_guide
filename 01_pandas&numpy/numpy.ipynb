{
  "nbformat": 4,
  "nbformat_minor": 0,
  "metadata": {
    "colab": {
      "name": "numpy.ipynb",
      "provenance": [],
      "authorship_tag": "ABX9TyMlte2T1WHVGGqqyB3mr/sX",
      "include_colab_link": true
    },
    "kernelspec": {
      "name": "python3",
      "display_name": "Python 3"
    },
    "language_info": {
      "name": "python"
    }
  },
  "cells": [
    {
      "cell_type": "markdown",
      "metadata": {
        "id": "view-in-github",
        "colab_type": "text"
      },
      "source": [
        "<a href=\"https://colab.research.google.com/github/cyan9212/wikibooks-python_ml_guide/blob/main/01_pandas%26numpy/numpy.ipynb\" target=\"_parent\"><img src=\"https://colab.research.google.com/assets/colab-badge.svg\" alt=\"Open In Colab\"/></a>"
      ]
    },
    {
      "cell_type": "code",
      "metadata": {
        "colab": {
          "base_uri": "https://localhost:8080/"
        },
        "id": "fBz3T279yXkQ",
        "outputId": "492cd410-f4f6-4cb1-f482-fbe8fa2f10e9"
      },
      "source": [
        "import numpy as np\n",
        "\n",
        "arr1 = np.array([1,2,3])\n",
        "print(type(arr1))\n",
        "\n",
        "array_int = np.array([1,2,3])\n",
        "array_float = array_int.astype('float64')\n",
        "print(array_float, array_float.dtype)\n",
        "\n",
        "array_int = array_float.astype('int32')\n",
        "print(array_int, array_int.dtype)\n",
        "\n",
        "array_float1 = np.array([1.1, 2.1, 3.1])\n",
        "array_int2 = array_float1.astype('int32')\n",
        "print(array_int2, array_int2.dtype)\n",
        "\n",
        "seq_array = np.arange(1,10)\n",
        "print(seq_array)\n",
        "\n",
        "zero_array = np.zeros((3,2), dtype='int32')\n",
        "print(zero_array, zero_array.dtype, zero_array.shape)\n",
        "\n",
        "one_array = np.ones((3,2))\n",
        "print(one_array, one_array.dtype, one_array.shape)"
      ],
      "execution_count": null,
      "outputs": [
        {
          "output_type": "stream",
          "text": [
            "<class 'numpy.ndarray'>\n",
            "[1. 2. 3.] float64\n",
            "[1 2 3] int32\n",
            "[1 2 3] int32\n",
            "[1 2 3 4 5 6 7 8 9]\n",
            "[[0 0]\n",
            " [0 0]\n",
            " [0 0]] int32 (3, 2)\n",
            "[[1. 1.]\n",
            " [1. 1.]\n",
            " [1. 1.]] float64 (3, 2)\n"
          ],
          "name": "stdout"
        }
      ]
    },
    {
      "cell_type": "code",
      "metadata": {
        "colab": {
          "base_uri": "https://localhost:8080/"
        },
        "id": "FR98hanacJzs",
        "outputId": "4a1a321b-41c9-4d18-aecb-9cee6b782166"
      },
      "source": [
        "array1 = np.arange(10)\n",
        "print('array1:\\n',array1)\n",
        "\n",
        "array2 = array1.reshape(2,5)\n",
        "print('array2:\\n',array2)\n",
        "\n",
        "array3 = array1.reshape(5,2)\n",
        "print('array3:\\n',array3)\n",
        "\n",
        "array4 = array1.reshape(-1,5)\n",
        "print('array4 shape:\\n',array4.shape)\n",
        "\n",
        "array5 = array1.reshape(5,-1)\n",
        "print('array5 shape:\\n',array5.shape)"
      ],
      "execution_count": null,
      "outputs": [
        {
          "output_type": "stream",
          "text": [
            "array1:\n",
            " [0 1 2 3 4 5 6 7 8 9]\n",
            "array2:\n",
            " [[0 1 2 3 4]\n",
            " [5 6 7 8 9]]\n",
            "array3:\n",
            " [[0 1]\n",
            " [2 3]\n",
            " [4 5]\n",
            " [6 7]\n",
            " [8 9]]\n",
            "array4 shape:\n",
            " (2, 5)\n",
            "array5 shape:\n",
            " (5, 2)\n"
          ],
          "name": "stdout"
        }
      ]
    },
    {
      "cell_type": "code",
      "metadata": {
        "colab": {
          "base_uri": "https://localhost:8080/"
        },
        "id": "JHWNp4mIdaDR",
        "outputId": "fb2e00b4-cc8e-4fe8-ed99-98661c4dd3f8"
      },
      "source": [
        "array1 = np.arange(8)\n",
        "array3d = array1.reshape((2,2,2))\n",
        "print('array3d:\\n', array3d.tolist())\n",
        "\n",
        "#3 dimension -> 2 dimension\n",
        "array2 = array3d.reshape(-1,1)\n",
        "print('array2:\\n', array2.tolist())\n",
        "print('array2 shape:', array2.shape)\n",
        "\n",
        "#1 dimension -> 2 dimension\n",
        "array3 = array1.reshape(-1,1)\n",
        "print('array3:\\n', array3.tolist())\n",
        "print('array3 shape:\\n', array3.shape)"
      ],
      "execution_count": null,
      "outputs": [
        {
          "output_type": "stream",
          "text": [
            "array3d:\n",
            " [[[0, 1], [2, 3]], [[4, 5], [6, 7]]]\n",
            "array2:\n",
            " [[0], [1], [2], [3], [4], [5], [6], [7]]\n",
            "array2 shape: (8, 1)\n",
            "array3:\n",
            " [[0], [1], [2], [3], [4], [5], [6], [7]]\n",
            "array3 shape:\n",
            " (8, 1)\n"
          ],
          "name": "stdout"
        }
      ]
    },
    {
      "cell_type": "code",
      "metadata": {
        "colab": {
          "base_uri": "https://localhost:8080/"
        },
        "id": "UaBuW3xae-Zj",
        "outputId": "8a78e4dc-28d0-4e96-9e65-e95d6bc15074"
      },
      "source": [
        "array1 = np.arange(start=1, stop=10)\n",
        "print('array1:', array1)\n",
        "\n",
        "value = array1[2]\n",
        "print(value, type(value))\n",
        "print(array1[-1],array1[-2])"
      ],
      "execution_count": null,
      "outputs": [
        {
          "output_type": "stream",
          "text": [
            "array1: [1 2 3 4 5 6 7 8 9]\n",
            "3 <class 'numpy.int64'>\n",
            "9 8\n"
          ],
          "name": "stdout"
        }
      ]
    },
    {
      "cell_type": "code",
      "metadata": {
        "colab": {
          "base_uri": "https://localhost:8080/"
        },
        "id": "gnygU94MitJU",
        "outputId": "3bbe8e02-db54-4970-b85e-fc5a1dd4b566"
      },
      "source": [
        "array1d = np.arange(start=1, stop=10)\n",
        "array2d = array1d.reshape(3,3)\n",
        "print(array2d)\n",
        "print(array2d[0,1])\n",
        "print(array2d[1,0])"
      ],
      "execution_count": null,
      "outputs": [
        {
          "output_type": "stream",
          "text": [
            "[[1 2 3]\n",
            " [4 5 6]\n",
            " [7 8 9]]\n",
            "2\n",
            "4\n"
          ],
          "name": "stdout"
        }
      ]
    },
    {
      "cell_type": "code",
      "metadata": {
        "colab": {
          "base_uri": "https://localhost:8080/"
        },
        "id": "LUvbZABFnRwQ",
        "outputId": "61fd49d5-6877-418f-a7f9-d744803c48fe"
      },
      "source": [
        "#Fancy Indexing\n",
        "array1d = np.arange(1,10)\n",
        "array2d = array1d.reshape(3,3)\n",
        "\n",
        "array3 = array2d[[0,1],2]\n",
        "print('array2d[[0,1],2]:',array3.tolist())\n",
        "\n",
        "array4 = array2d[[0,1],0:2]\n",
        "print('array2d[[0,1],0:2]:',array4.tolist())\n",
        "\n",
        "array5 = array2d[[0,1]]\n",
        "print('array2d[[0,1]]:', array5.tolist())"
      ],
      "execution_count": null,
      "outputs": [
        {
          "output_type": "stream",
          "text": [
            "array2d[[0,1],2]: [3, 6]\n",
            "array2d[[0,1],0:2]: [[1, 2], [4, 5]]\n",
            "array2d[[0,1]]: [[1, 2, 3], [4, 5, 6]]\n"
          ],
          "name": "stdout"
        }
      ]
    },
    {
      "cell_type": "code",
      "metadata": {
        "colab": {
          "base_uri": "https://localhost:8080/"
        },
        "id": "3STicsrLo0aZ",
        "outputId": "8bb6e8e6-c4c1-46a6-b7b2-c4a76f80da84"
      },
      "source": [
        "#Boolean Indexing\n",
        "array1d = np.arange(1,10)\n",
        "array2 = array1d[array1d >5]\n",
        "print(array2)\n",
        "array1d > 5\n",
        "boolean_indexes = np.array([False,False,False,False,False,True,True,True,True])\n",
        "array3 = array1d[boolean_indexes]\n",
        "print(array3)"
      ],
      "execution_count": null,
      "outputs": [
        {
          "output_type": "stream",
          "text": [
            "[6 7 8 9]\n",
            "[6 7 8 9]\n"
          ],
          "name": "stdout"
        }
      ]
    },
    {
      "cell_type": "code",
      "metadata": {
        "colab": {
          "base_uri": "https://localhost:8080/"
        },
        "id": "j0HYrsGtqebE",
        "outputId": "e16badaa-6173-4441-bfd5-1c36123ddae9"
      },
      "source": [
        "#sort()\n",
        "org_array  = np.array([3,1,9,5])\n",
        "print('raw array:',org_array)\n",
        "\n",
        "sorted_array = np.sort(org_array)\n",
        "print('sorted array:',sorted_array)\n",
        "\n",
        "sorted_array_desc = np.sort(org_array)[::-1]\n",
        "print('descending sort:',sorted_array_desc)\n",
        "\n",
        "array2d = np.array([[8,12],[7,1]])\n",
        "\n",
        "sorted_array2d_axis0 = np.sort(array2d, axis=0)\n",
        "print('row direction sort\\n', sorted_array2d_axis0)\n",
        "\n",
        "sorted_array2d_axis1 = np.sort(array2d, axis=1)\n",
        "print('col direction sort\\n',sorted_array2d_axis1)"
      ],
      "execution_count": null,
      "outputs": [
        {
          "output_type": "stream",
          "text": [
            "raw array: [3 1 9 5]\n",
            "sorted array: [1 3 5 9]\n",
            "descending sort: [9 5 3 1]\n",
            "row direction sort\n",
            " [[ 7  1]\n",
            " [ 8 12]]\n",
            "col direction sort\n",
            " [[ 8 12]\n",
            " [ 1  7]]\n"
          ],
          "name": "stdout"
        }
      ]
    },
    {
      "cell_type": "code",
      "metadata": {
        "colab": {
          "base_uri": "https://localhost:8080/"
        },
        "id": "274yQxgAwLqL",
        "outputId": "946956fb-aeef-4d73-b208-3a5bb21c791d"
      },
      "source": [
        "#arg_sort()\n",
        "org_array = np.array([3,1,9,5])\n",
        "sort_indices = np.argsort(org_array)\n",
        "print(type(sort_indices))\n",
        "print('정렬 후 원본 행렬의 인덱스:',sort_indices)\n",
        "\n",
        "org_array = np.array([3,1,9,5])\n",
        "sort_indices_desc = np.argsort(org_array)[::-1]\n",
        "print('내림차순 정렬 후 원본 행렬의 인덱스:',sort_indices_desc)\n",
        "\n",
        "name = np.array(['John','Mike','Sarah','Kate','Samuel'])\n",
        "score_array = np.array([78,95,84,98,88])\n",
        "\n",
        "sort_indices = np.argsort(score_array)\n",
        "print('arg_index:',sort_indices)\n",
        "print('name:',name[sort_indices])"
      ],
      "execution_count": null,
      "outputs": [
        {
          "output_type": "stream",
          "text": [
            "<class 'numpy.ndarray'>\n",
            "정렬 후 원본 행렬의 인덱스: [1 0 3 2]\n",
            "내림차순 정렬 후 원본 행렬의 인덱스: [2 3 0 1]\n",
            "arg_index: [0 2 4 1 3]\n",
            "name: ['John' 'Sarah' 'Samuel' 'Mike' 'Kate']\n"
          ],
          "name": "stdout"
        }
      ]
    },
    {
      "cell_type": "code",
      "metadata": {
        "colab": {
          "base_uri": "https://localhost:8080/"
        },
        "id": "0I5fu08q316m",
        "outputId": "ed140a60-bd65-443e-8b67-ef0adcaeb3bb"
      },
      "source": [
        "#행렬의 내적\n",
        "A = np.array([[1,2,3], [4,5,6]])\n",
        "B = np.array([[7,8],[9,10],[11,12]])\n",
        "dot_product = np.dot(A,B)\n",
        "print('행렬 내적 결과\\n',dot_product)\n",
        "\n",
        "#전치행렬\n",
        "A = np.array([[1,2],[3,4]])\n",
        "transpose_mat = np.transpose(A)\n",
        "print('A의 전치행렬\\n', transpose_mat)"
      ],
      "execution_count": null,
      "outputs": [
        {
          "output_type": "stream",
          "text": [
            "행렬 내적 결과\n",
            " [[ 58  64]\n",
            " [139 154]]\n",
            "A의 전치행렬\n",
            " [[1 3]\n",
            " [2 4]]\n"
          ],
          "name": "stdout"
        }
      ]
    }
  ]
}